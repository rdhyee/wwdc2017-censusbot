{
 "cells": [
  {
   "cell_type": "markdown",
   "metadata": {},
   "source": [
    "# Purpose of this bot\n",
    "\n",
    "I'm seeking permission for [User:RaymondYeeBot - Wikidata](https://www.wikidata.org/wiki/User:RaymondYeeBot) to make corrections to [Wikidata](https://www.wikidata.org/wiki/Wikidata:Main_Page). \n",
    "\n",
    "I would like to start by correcting the [point in time](https://www.wikidata.org/wiki/Property:P585) qualifications to the [population](https://www.wikidata.org/wiki/Property:P1082) of US states according to the US 2010 Census. [A SPARQL query to show populations of US states in 2010](http://tinyurl.com/zovzu9l) shows that some of the date tied to populations for 2010 are January 1, 2010.  The dates from 2010 census should instead be [April 1, 2010](https://hyp.is/pEHXDgauEeeVM2OQ5k0Saw/en.wikipedia.org/wiki/2010_United_States_Census).  This code will correct the dates for the US States. \n",
    "\n",
    "Once the date qualifications are fixed for the states, I would like to check and correct the dates for other geographic entities in the US.\n"
   ]
  },
  {
   "cell_type": "markdown",
   "metadata": {},
   "source": [
    "# How to use with wikidata?\n",
    "\n",
    "[Manual:Pywikibot/Wikidata - MediaWiki](https://www.mediawiki.org/wiki/Manual:Pywikibot/Wikidata)\n",
    "\n",
    "\n",
    "[Manual:Pywikibot/Create your own script - MediaWiki](https://www.mediawiki.org/wiki/Manual:Pywikibot/Create_your_own_script)\n",
    "\n",
    "\n",
    "Need to create a `user-config.py`.  After flailing around a bit,I finally created a file like, using [Manual:Pywikibot/user-config.py - MediaWiki](https://www.mediawiki.org/wiki/Manual:Pywikibot/user-config.py):\n",
    "\n",
    "```\n",
    "# -*- coding: utf-8 -*-\n",
    "\n",
    "family = 'wikipedia'\n",
    "mylang = 'en'\n",
    "usernames['wikipedia']['en'] = u'ExampleBot'\n",
    "```\n",
    "\n",
    "Learned a lot from [census-wikidata-bot/addPopValues.py at 3e548e1e0dfe80f2fb950c61fba97be49347b8e8 · CommerceDataService/census-wikidata-bot](https://github.com/CommerceDataService/census-wikidata-bot/blob/3e548e1e0dfe80f2fb950c61fba97be49347b8e8/addPopValues.py)"
   ]
  },
  {
   "cell_type": "code",
   "execution_count": null,
   "metadata": {
    "collapsed": false
   },
   "outputs": [],
   "source": [
    "from itertools import islice\n",
    "from CensusFixer import (WikidataWrapper, wikidata_states)"
   ]
  },
  {
   "cell_type": "code",
   "execution_count": null,
   "metadata": {
    "collapsed": false
   },
   "outputs": [],
   "source": [
    "states = wikidata_states()\n",
    "wdw = WikidataWrapper()\n",
    "\n",
    "for state_id in islice(states, None):\n",
    "    item = wdw.item(state_id)\n",
    "    if list (wdw.date_claims_of_interest(item)): \n",
    "        print (wdw.item_label(item)), \n"
   ]
  },
  {
   "cell_type": "markdown",
   "metadata": {},
   "source": [
    "# Test mode for writing -- using sandbox"
   ]
  },
  {
   "cell_type": "code",
   "execution_count": null,
   "metadata": {
    "collapsed": false
   },
   "outputs": [],
   "source": [
    "wdw = WikidataWrapper(mode='test', site_label='wikidata')"
   ]
  },
  {
   "cell_type": "code",
   "execution_count": null,
   "metadata": {
    "collapsed": false
   },
   "outputs": [],
   "source": [
    "# https://test.wikidata.org/wiki/Q49328 --> Fake Berkeley\n",
    "item = wdw.item('Q49328')\n",
    "claims_of_interest = list (wdw.date_claims_of_interest(item))\n",
    "print (wdw.item_label(item), claims_of_interest)"
   ]
  },
  {
   "cell_type": "code",
   "execution_count": null,
   "metadata": {
    "collapsed": false
   },
   "outputs": [],
   "source": [
    "wdw.fix_claims_of_interest(('Q49328',))"
   ]
  }
 ],
 "metadata": {
  "anaconda-cloud": {},
  "kernelspec": {
   "display_name": "Python [default]",
   "language": "python",
   "name": "python2"
  },
  "language_info": {
   "codemirror_mode": {
    "name": "ipython",
    "version": 2
   },
   "file_extension": ".py",
   "mimetype": "text/x-python",
   "name": "python",
   "nbconvert_exporter": "python",
   "pygments_lexer": "ipython2",
   "version": "2.7.12"
  }
 },
 "nbformat": 4,
 "nbformat_minor": 2
}
